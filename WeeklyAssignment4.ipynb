{
  "nbformat": 4,
  "nbformat_minor": 0,
  "metadata": {
    "colab": {
      "provenance": [],
      "authorship_tag": "ABX9TyPA/ENESw3ReBdnIK5uBkjN",
      "include_colab_link": true
    },
    "kernelspec": {
      "name": "python3",
      "display_name": "Python 3"
    },
    "language_info": {
      "name": "python"
    }
  },
  "cells": [
    {
      "cell_type": "markdown",
      "metadata": {
        "id": "view-in-github",
        "colab_type": "text"
      },
      "source": [
        "<a href=\"https://colab.research.google.com/github/A-THAKUR22/WeeklyAssignments/blob/main/WeeklyAssignment4.ipynb\" target=\"_parent\"><img src=\"https://colab.research.google.com/assets/colab-badge.svg\" alt=\"Open In Colab\"/></a>"
      ]
    },
    {
      "cell_type": "code",
      "execution_count": null,
      "metadata": {
        "colab": {
          "base_uri": "https://localhost:8080/"
        },
        "id": "YhRU40sSq0YG",
        "outputId": "473c9319-f100-4f2e-ac02-0f1f4746861e"
      },
      "outputs": [
        {
          "output_type": "stream",
          "name": "stdout",
          "text": [
            "Differences stored in the file 'differences_file_(2024_03_16)(12:24:15).csv'. Kindly check the file.\n"
          ]
        }
      ],
      "source": [
        "import pandas as pd\n",
        "import datetime as dt\n",
        "import os\n",
        "\n",
        "\n",
        "def csv_comparator(f1, f2, output_file_prefix):\n",
        "#Check wheher the files are existing or not\n",
        "    if not (os.path.exists(f1) and os.path.exists(f2)):\n",
        "        print(\"Error: Files not found.\")\n",
        "        return\n",
        "#Check whether the files are of same format or not\n",
        "    if not (f1.lower().endswith(\".txt\") and f2.lower().endswith(\".txt\")):\n",
        "        print(\"Error: One or both files are of different format.\")\n",
        "        return\n",
        "\n",
        "#Make sure the files are in csv format and the files are not empty\n",
        "    try:\n",
        "        df1 = pd.read_csv(f1)\n",
        "        df1.to_csv(\"Actual_file.csv\", index=False)\n",
        "\n",
        "        df2 = pd.read_csv(f2)\n",
        "        df2.to_csv(\"Expected_file.csv\", index=False)\n",
        "\n",
        "    except pd.errors.EmptyDataError:\n",
        "        print(\"Error: One or both files have no data.\")\n",
        "        return\n",
        "\n",
        "    rows, columns = df1.shape\n",
        "    differences = []\n",
        "\n",
        "#Check whether the data in each row and column is same or not or put the values in a separate list\n",
        "    for i in range(rows):\n",
        "        for j in range(columns):\n",
        "            if df1.iloc[i, j] != df2.iloc[i, j]:\n",
        "                differences.append((dt.datetime.now(), i, j, df1.iloc[i, j], df2.iloc[i, j]))\n",
        "\n",
        "#Check whether there are differences present in the file and store them in a third csv file along with the timestamp and date of the creation of file, if not print \"True\"\n",
        "    if differences:\n",
        "        diff_df = pd.DataFrame(differences, columns=[\"Date\", \"Row\", \"Column\", \"Actual Value\", \"Expected Value\"])\n",
        "        timestamp = dt.datetime.now().strftime(\"(%Y_%m_%d)(%H:%M:%S)\")\n",
        "        output_file = f\"{output_file_prefix}_{timestamp}.csv\"\n",
        "        diff_df.to_csv(output_file, index=False)\n",
        "        print(f\"Differences stored in the file '{output_file}'. Kindly check the file.\")\n",
        "    else:\n",
        "        print(\"True\")\n",
        "\n",
        "file1 = \"locations.txt\"\n",
        "file2 = \"locations2.txt\"\n",
        "output_file_prefix = \"differences_file\"\n",
        "csv_comparator(file1, file2, output_file_prefix)\n",
        "\n"
      ]
    },
    {
      "cell_type": "code",
      "source": [
        "import pandas as pd\n",
        "import datetime as dt\n",
        "import os\n",
        "\n",
        "#Check wheher the files are existing or not\n",
        "def text_file_comparator(file1, file2, output_file):\n",
        "    if not (os.path.exists(file1) and os.path.exists(file2)):\n",
        "        print(\"Error: Files not found.\")\n",
        "        return\n",
        "\n",
        "#Open the text files and read evry line present in it\n",
        "    try:\n",
        "        with open(file1, 'r') as f1, open(file2, 'r') as f2:\n",
        "            lines1 = f1.readlines()\n",
        "            lines2 = f2.readlines()\n",
        "    except FileNotFoundError:\n",
        "        print(\"Error: One or both files not found.\")\n",
        "        return\n",
        "\n",
        "#Iterate over each line firstly and split them and then iterate over the words if any differencs are found put them inside a separte list\n",
        "    differences = []\n",
        "    for line_num, (line1, line2) in enumerate(zip(lines1, lines2), start=1):\n",
        "        words1 = line1.strip().split()\n",
        "        words2 = line2.strip().split()\n",
        "\n",
        "        for word_num, (word1, word2) in enumerate(zip(words1, words2), start=1):\n",
        "            if word1 != word2:\n",
        "                differences.append((dt.datetime.now(), line_num, word_num, word1, word2))\n",
        "\n",
        "#If dufferences are found write the values in the differences list on a new text file or else print true\n",
        "    if differences:\n",
        "      timestamp = dt.datetime.now().strftime(\"(%Y_%m_%d)(%H:%M:%S)\")\n",
        "      output_file = f\"{output_file_prefix}_{timestamp}.txt\"\n",
        "        with open(output_file, 'w') as f:\n",
        "            for diff in differences:\n",
        "                f.write(f\"Date: {diff[0]}, Line: {diff[1]}, Word Number: {diff[2]}, File1: {diff[3]}, File2: {diff[4]}\\n\")\n",
        "        print(f\"Differences stored in the file '{output_file}'. Kindly check the file.\")\n",
        "    else:\n",
        "        print(\"True\")\n",
        "\n",
        "file1 = \"obama.txt\"\n",
        "file2 = \"obama2.txt\"\n",
        "output_file_prefix = \"differences_filetext\"\n",
        "text_file_comparator(file1, file2, output_file_prefix)\n",
        "\n"
      ],
      "metadata": {
        "colab": {
          "base_uri": "https://localhost:8080/"
        },
        "id": "JsA289i0ArCv",
        "outputId": "8ac8f42b-ba94-46de-af6d-f5c0cdba324f"
      },
      "execution_count": null,
      "outputs": [
        {
          "output_type": "stream",
          "name": "stdout",
          "text": [
            "Differences stored in the file 'differences_filetext.txt'. Kindly check the file.\n"
          ]
        }
      ]
    }
  ]
}