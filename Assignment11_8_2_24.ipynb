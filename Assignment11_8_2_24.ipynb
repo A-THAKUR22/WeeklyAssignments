{
  "nbformat": 4,
  "nbformat_minor": 0,
  "metadata": {
    "colab": {
      "provenance": [],
      "authorship_tag": "ABX9TyNC4aLZbtMw2M6xon7DcFOG",
      "include_colab_link": true
    },
    "kernelspec": {
      "name": "python3",
      "display_name": "Python 3"
    },
    "language_info": {
      "name": "python"
    }
  },
  "cells": [
    {
      "cell_type": "markdown",
      "metadata": {
        "id": "view-in-github",
        "colab_type": "text"
      },
      "source": [
        "<a href=\"https://colab.research.google.com/github/A-THAKUR22/WeeklyAssignments/blob/main/Assignment11_8_2_24.ipynb\" target=\"_parent\"><img src=\"https://colab.research.google.com/assets/colab-badge.svg\" alt=\"Open In Colab\"/></a>"
      ]
    },
    {
      "cell_type": "markdown",
      "source": [
        "Takes two parameters, numerator and denominator, and returns the result of the division. However, handle the case where the denominator is zero by using a try-except block."
      ],
      "metadata": {
        "id": "fVR4tzUMtLJg"
      }
    },
    {
      "cell_type": "code",
      "source": [
        "def divide_numbers(numerator,denomenator):\n",
        "  try:\n",
        "    result=numerator/denomenator\n",
        "    return result\n",
        "  except ZeroDivisionError:\n",
        "    print(\"Error:Division can't be done.\")\n",
        "    return None\n",
        "a=int(input(\"Enter the numerator value:\"))\n",
        "b=int(input(\"Enter the denomenator value:\"))\n",
        "result=divide_numbers(a,b)\n",
        "if result is not None:\n",
        "  print(f\"Result of division: {result}\")\n"
      ],
      "metadata": {
        "colab": {
          "base_uri": "https://localhost:8080/"
        },
        "id": "umEwsQipuVpp",
        "outputId": "da8d7d3a-dc8b-429d-f7b8-27ec50f18abd"
      },
      "execution_count": null,
      "outputs": [
        {
          "output_type": "stream",
          "name": "stdout",
          "text": [
            "Enter the numerator value:10\n",
            "Enter the denomenator value:0\n",
            "Error:Division can't be done.\n"
          ]
        }
      ]
    },
    {
      "cell_type": "markdown",
      "source": [
        "Read the content of a file. Use a try-except block to handle the case where the file does not exist."
      ],
      "metadata": {
        "id": "z1f1eVK__MKc"
      }
    },
    {
      "cell_type": "code",
      "source": [
        "def read_file(filename):\n",
        "  try:\n",
        "    with open(filename,'r') as file:\n",
        "      content=file.read()\n",
        "  except FileNotFoundError:\n",
        "    print(\"This File does not exist.\")\n",
        "  return content\n",
        "file_name=input(\"Enter the name of file:\")\n",
        "read_file(file_name)\n",
        "\n"
      ],
      "metadata": {
        "colab": {
          "base_uri": "https://localhost:8080/",
          "height": 144
        },
        "id": "ThJ54TRa_6Aa",
        "outputId": "841df492-b0dc-4f9e-e7ed-ad6a8cdc0437"
      },
      "execution_count": null,
      "outputs": [
        {
          "name": "stdout",
          "output_type": "stream",
          "text": [
            "Enter the name of file:obama_speech.txt\n"
          ]
        },
        {
          "output_type": "execute_result",
          "data": {
            "text/plain": [
              "'My fellow citizens:I stand here today humbled by the task before us, grateful for the trust you have bestowed, mindful of the sacrifices borne by our ancestors. I thank President Bush for his service to our nation, as well as the generosity and cooperation he has shown throughout this transition.\\nForty-four Americans have now taken the presidential oath. The words have been spoken during rising tides of prosperity and the still waters of peace. Yet, every so often the oath is taken amidst gathering clouds and raging storms. At these moments, America has carried on not simply because of the skill or vision of those in high office, but because We the People have remained faithful to the ideals of our forbearers, and true to our founding documents.\\nSo it has been. So it must be with this generation of Americans.\\n\\nThat we are in the midst of crisis is now well understood. Our nation is at war, against a far-reaching network of violence and hatred. Our economy is badly weakened, a consequence of greed and irresponsibility on the part of some, but also our collective failure to make hard choices and prepare the nation for a new age. Homes have been lost; jobs shed; businesses shuttered. Our health care is too costly; our schools fail too many; and each day brings further evidence that the ways we use energy strengthen our adversaries and threaten our planet.\\n\\nThese are the indicators of crisis, subject to data and statistics. Less measurable but no less profound is a sapping of confidence across our land - a nagging fear that America\\'s decline is inevitable, and that the next generation must lower its sights.\\n\\nToday I say to you that the challenges we face are real. They are serious and they are many.\\n\\nThey will not be met easily or in a short span of time. But know this, America - they will be met. On this day, we gather because we have chosen hope over fear, unity of purpose over conflict and discord.\\n\\nOn this day, we come to proclaim an end to the petty grievances and false promises, the recriminations and worn out dogmas, that for far too long have strangled our politics.\\n\\nWe remain a young nation, but in the words of Scripture, the time has come to set aside childish things. The time has come to reaffirm our enduring spirit; to choose our better history; to carry forward that precious gift, that noble idea, passed on from generation to generation: the God-given promise that all are equal, all are free, and all deserve a chance to pursue their full measure of happiness.\\n\\nIn reaffirming the greatness of our nation, we understand that greatness is never a given. It must be earned. Our journey has never been one of short-cuts or settling for less. It has not been the path for the faint-hearted - for those who prefer leisure over work, or seek only the pleasures of riches and fame. Rather, it has been the risk-takers, the doers, the makers of things - some celebrated but more often men and women obscure in their labor, who have carried us up the long, rugged path towards prosperity and freedom.\\n\\nFor us, they packed up their few worldly possessions and traveled across oceans in search of a new life.\\n\\nFor us, they toiled in sweatshops and settled the West; endured the lash of the whip and plowed the hard earth.\\nFor us, they fought and died, in places like Concord and Gettysburg; Normandy and Khe Sahn. Time and again these men and women struggled and sacrificed and worked till their hands were raw so that we might live a better life. They saw America as bigger than the sum of our individual ambitions; greater than all the differences of birth or wealth or faction.\\n\\nThis is the journey we continue today. We remain the most prosperous, powerful nation on Earth. Our workers are no less productive than when this crisis began. Our minds are no less inventive, our goods and services no less needed than they were last week or last month or last year. Our capacity remains undiminished. But our time of standing pat, of protecting narrow interests and putting off unpleasant decisions - that time has surely passed. Starting today, we must pick ourselves up, dust ourselves off, and begin again the work of remaking America.\\n\\nFor everywhere we look, there is work to be done. The state of the economy calls for action, bold and swift, and we will act - not only to create new jobs, but to lay a new foundation for growth. We will build the roads and bridges, the electric grids and digital lines that feed our commerce and bind us together. We will restore science to its rightful place, and wield technology\\'s wonders to raise health care\\'s quality and lower its cost. We will harness the sun and the winds and the soil to fuel our cars and run our factories. And we will transform our schools and colleges and universities to meet the demands of a new age. All this we can do. And all this we will do.\\n\\nNow, there are some who question the scale of our ambitions - who suggest that our system cannot tolerate too many big plans. Their memories are short. For they have forgotten what this country has already done; what free men and women can achieve when imagination is joined to common purpose, and necessity to courage.\\n\\nWhat the cynics fail to understand is that the ground has shifted beneath them - that the stale political arguments that have consumed us for so long no longer apply. The question we ask today is not whether our government is too big or too small, but whether it works - whether it helps families find jobs at a decent wage, care they can afford, a retirement that is dignified. Where the answer is yes, we intend to move forward. Where the answer is no, programs will end. And those of us who manage the public\\'s dollars will be held to account - to spend wisely, reform bad habits, and do our business in the light of day - because only then can we restore the vital trust between a people and their government.\\n\\nNor is the question before us whether the market is a force for good or ill. Its power to generate wealth and expand freedom is unmatched, but this crisis has reminded us that without a watchful eye, the market can spin out of control - and that a nation cannot prosper long when it favors only the prosperous. The success of our economy has always depended not just on the size of our Gross Domestic Product, but on the reach of our prosperity; on our ability to extend opportunity to every willing heart - not out of charity, but because it is the surest route to our common good.\\n\\nAs for our common defense, we reject as false the choice between our safety and our ideals. Our Founding Fathers, faced with perils we can scarcely imagine, drafted a charter to assure the rule of law and the rights of man, a charter expanded by the blood of generations. Those ideals still light the world, and we will not give them up for expedience\\'s sake. And so to all other peoples and governments who are watching today, from the grandest capitals to the small village where my father was born: know that America is a friend of each nation and every man, woman, and child who seeks a future of peace and dignity, and that we are ready to lead once more.\\n\\nRecall that earlier generations faced down fascism and communism not just with missiles and tanks, but with sturdy alliances and enduring convictions. They understood that our power alone cannot protect us, nor does it entitle us to do as we please. Instead, they knew that our power grows through its prudent use; our security emanates from the justness of our cause, the force of our example, the tempering qualities of humility and restraint.\\n\\nWe are the keepers of this legacy. Guided by these principles once more, we can meet those new threats that demand even greater effort - even greater cooperation and understanding between nations. We will begin to responsibly leave Iraq to its people, and forge a hard-earned peace in Afghanistan. With old friends and former foes, we will work tirelessly to lessen the nuclear threat, and roll back the specter of a warming planet. We will not apologize for our way of life, nor will we waver in its defense, and for those who seek to advance their aims by inducing terror and slaughtering innocents, we say to you now that our spirit is stronger and cannot be broken; you cannot outlast us, and we will defeat you.\\n\\nFor we know that our patchwork heritage is a strength, not a weakness. We are a nation of Christians and Muslims, Jews and Hindus - and non-believers. We are shaped by every language and culture, drawn from every end of this Earth; and because we have tasted the bitter swill of civil war and segregation, and emerged from that dark chapter stronger and more united, we cannot help but believe that the old hatreds shall someday pass; that the lines of tribe shall soon dissolve; that as the world grows smaller, our common humanity shall reveal itself; and that America must play its role in ushering in a new era of peace.\\n\\nTo the Muslim world, we seek a new way forward, based on mutual interest and mutual respect.\\n\\nTo those leaders around the globe who seek to sow conflict, or blame their society\\'s ills on the West - know that your people will judge you on what you can build, not what you destroy. To those who cling to power through corruption and deceit and the silencing of dissent, know that you are on the wrong side of history; but that we will extend a hand if you are willing to unclench your fist.\\n\\nTo the people of poor nations, we pledge to work alongside you to make your farms flourish and let clean waters flow; to nourish starved bodies and feed hungry minds. And to those nations like ours that enjoy relative plenty, we say we can no longer afford indifference to suffering outside our borders; nor can we consume the world\\'s resources without regard to effect. For the world has changed, and we must change with it.\\n\\nAs we consider the road that unfolds before us, we remember with humble gratitude those brave Americans who, at this very hour, patrol far-off deserts and distant mountains. They have something to tell us today, just as the fallen heroes who lie in Arlington whisper through the ages.\\n\\nWe honor them not only because they are guardians of our liberty, but because they embody the spirit of service; a willingness to find meaning in something greater than themselves. And yet, at this moment - a moment that will define a generation - it is precisely this spirit that must inhabit us all.\\n\\nFor as much as government can do and must do, it is ultimately the faith and determination of the American people upon which this nation relies. It is the kindness to take in a stranger when the levees break, the selflessness of workers who would rather cut their hours than see a friend lose their job which sees us through our darkest hours. It is the firefighter\\'s courage to storm a stairway filled with smoke, but also a parent\\'s willingness to nurture a child, that finally decides our fate.\\n\\nOur challenges may be new. The instruments with which we meet them may be new. But those values upon which our success depends - hard work and honesty, courage and fair play, tolerance and curiosity, loyalty and patriotism - these things are old. These things are true. They have been the quiet force of progress throughout our history. What is demanded then is a return to these truths. What is required of us now is a new era of responsibility - a recognition, on the part of every American, that we have duties to ourselves, our nation, and the world, duties that we do not grudgingly accept but rather seize gladly, firm in the knowledge that there is nothing so satisfying to the spirit, so defining of our character, than giving our all to a difficult task.\\n\\nThis is the price and the promise of citizenship.\\n\\nThis is the source of our confidence - the knowledge that God calls on us to shape an uncertain destiny.\\n\\nThis is the meaning of our liberty and our creed - why men and women and children of every race and every faith can join in celebration across this magnificent mall, and why a man whose father less than sixty years ago might not have been served at a local restaurant can now stand before you to take a most sacred oath.\\n\\nSo let us mark this day with remembrance, of who we are and how far we have traveled. In the year of America\\'s birth, in the coldest of months, a small band of patriots huddled by dying campfires on the shores of an icy river. The capital was abandoned. The enemy was advancing. The snow was stained with blood. At a moment when the outcome of our revolution was most in doubt, the father of our nation ordered these words be read to the people:\\n\\n\"Let it be told to the future world...that in the depth of winter, when nothing but hope and virtue could survive...that the city and the country, alarmed at one common danger, came forth to meet [it].\"\\n\\nAmerica. In the face of our common dangers, in this winter of our hardship, let us remember these timeless words. With hope and virtue, let us brave once more the icy currents, and endure what storms may come. Let it be said by our children\\'s children that when we were tested we refused to let this journey end, that we did not turn back nor did we falter; and with eyes fixed on the horizon and God\\'s grace upon us, we carried forth that great gift of freedom and delivered it safely to future generations.\\n'"
            ],
            "application/vnd.google.colaboratory.intrinsic+json": {
              "type": "string"
            }
          },
          "metadata": {},
          "execution_count": 1
        }
      ]
    },
    {
      "cell_type": "code",
      "source": [
        "def read_file(filename):\n",
        "  try:\n",
        "    with open(filename,'r') as file:\n",
        "      content=file.read()\n",
        "  except FileNotFoundError:\n",
        "    print(\"This File does not exist.\")\n",
        "\n",
        "file_name=input(\"Enter the name of file:\")\n",
        "read_file(file_name)"
      ],
      "metadata": {
        "colab": {
          "base_uri": "https://localhost:8080/"
        },
        "id": "XxvDk1YwBUH1",
        "outputId": "1ba3d73a-c4ac-4e39-a53b-1ddcc818fc57"
      },
      "execution_count": null,
      "outputs": [
        {
          "output_type": "stream",
          "name": "stdout",
          "text": [
            "Enter the name of file:myfile.txt\n",
            "This File does not exist.\n"
          ]
        }
      ]
    },
    {
      "cell_type": "markdown",
      "source": [
        "Take user input (an integer) and raises this custom exception if the input is not a positive integer. Use a try-except block to catch this custom exception and print an error message."
      ],
      "metadata": {
        "id": "wFCmR9EBBda6"
      }
    },
    {
      "cell_type": "code",
      "source": [
        "class NegativeNumber(Exception):\n",
        "  def __init__(self,message=\"The number is negative.\"):\n",
        "    self.message=message\n",
        "    super().__init__(self.message)\n",
        "def Input_num(n):\n",
        "  try:\n",
        "    if n<=0:\n",
        "      raise NegativeNumber\n",
        "    return n\n",
        "  except ValueError:\n",
        "    print(\"The input is not an integer.\")\n",
        "  except NegativeNumber as e:\n",
        "    print(f\"Error: {e.message}\")\n",
        "\n",
        "num=int(input(\"Enter the integer:\"))\n",
        "Input_num(num)"
      ],
      "metadata": {
        "colab": {
          "base_uri": "https://localhost:8080/"
        },
        "id": "NsRMyMLrB7y0",
        "outputId": "5c4ee7b5-c8a2-48f3-899a-b31eaae03ae9"
      },
      "execution_count": null,
      "outputs": [
        {
          "output_type": "stream",
          "name": "stdout",
          "text": [
            "Enter the integer:-1\n",
            "Error: The number is negative.\n"
          ]
        }
      ]
    },
    {
      "cell_type": "markdown",
      "source": [
        "Function that validates a user's password. The password must satisfy the following conditions:\n",
        "\n",
        "At least 8 characters long\n",
        "Contains at least one uppercase letter\n",
        "Contains at least one digit"
      ],
      "metadata": {
        "id": "A6ALAHJ1FM-R"
      }
    },
    {
      "cell_type": "code",
      "source": [
        "class WeakPasswordError(Exception):\n",
        "  def __init__(self,message=\"The password is weak ,kindly rewrite\"):\n",
        "    self.message=message\n",
        "    super().__init__(self.message)\n",
        "\n",
        "def Password_check(password):\n",
        "  try:\n",
        "        if len(password) < 8:\n",
        "            raise WeakPasswordError(\"Password must be at least 8 characters long.\")\n",
        "        if not any(char.isupper() for char in password):\n",
        "            raise WeakPasswordError(\"Password must contain at least one uppercase letter.\")\n",
        "        if not any(char.isdigit() for char in password):\n",
        "            raise WeakPasswordError(\"Password must contain at least one digit.\")\n",
        "        return password\n",
        "  except WeakPasswordError as e:\n",
        "    print(f\"Error: {e.message}\")\n",
        "my_password=input(\"Create your password:\")\n",
        "Password_check(my_password)\n"
      ],
      "metadata": {
        "colab": {
          "base_uri": "https://localhost:8080/"
        },
        "id": "pe07lX0hFXzm",
        "outputId": "980e16cc-4db3-4db7-ce4e-1b928c9b6222"
      },
      "execution_count": null,
      "outputs": [
        {
          "output_type": "stream",
          "name": "stdout",
          "text": [
            "Create your password:abg1Dfg\n",
            "Error: Password must be at least 8 characters long.\n"
          ]
        }
      ]
    },
    {
      "cell_type": "markdown",
      "source": [
        "Parses a URL and extracts the protocol (http or https), domain, and path. Define a custom exception InvalidURLError and raise it if the URL does not start with \"http://\" or \"https://\"."
      ],
      "metadata": {
        "id": "OMIuzf-2JR4_"
      }
    },
    {
      "cell_type": "code",
      "source": [
        "class InvalidURLError(Exception):\n",
        "  def __init__(self,message=\"The URL given as input is not valid.\"):\n",
        "    self.message=message\n",
        "    super().__init__(self.message)\n",
        "def URLcheck(input):\n",
        "  try:\n",
        "    if not input.startswith(\"http://\") and not input.startswith(\"https://\"):\n",
        "        raise InvalidURLError\n",
        "    url= input.split(\"://\")[1]\n",
        "\n",
        "    domain, *path = url.split(\"/\", 1)\n",
        "    return {\n",
        "            \"protocol\": url.split(\"://\")[0],\n",
        "            \"domain\": domain,\n",
        "            \"path\": \"/\" + path[0] if path else \"/\"\n",
        "        }\n",
        "  except InvalidURLError as e:\n",
        "    print(f\"Error:{e.message}\")\n",
        "input_url=input(\"Enter the URL:\")\n",
        "URLcheck(input_url)"
      ],
      "metadata": {
        "colab": {
          "base_uri": "https://localhost:8080/"
        },
        "id": "N6f8Or7lJcsM",
        "outputId": "b833730f-4dec-4385-a661-52ec74bf1b80"
      },
      "execution_count": null,
      "outputs": [
        {
          "name": "stdout",
          "output_type": "stream",
          "text": [
            "Enter the URL:http://www.wikipedia.org/wiki/Main_Page\n"
          ]
        },
        {
          "output_type": "execute_result",
          "data": {
            "text/plain": [
              "{'protocol': 'www.wikipedia.org/wiki/Main_Page',\n",
              " 'domain': 'www.wikipedia.org',\n",
              " 'path': '/wiki/Main_Page'}"
            ]
          },
          "metadata": {},
          "execution_count": 17
        }
      ]
    },
    {
      "cell_type": "markdown",
      "source": [
        "Accept a number as input and uses a custom exception AssertionError to raise an error if the number is negative. Use an assert statement to check this condition."
      ],
      "metadata": {
        "id": "PDSbnc9CLtZ-"
      }
    },
    {
      "cell_type": "code",
      "source": [
        "class NegativeNumber(Exception):\n",
        "  def __init__(self,message=\"The number is not positive.\"):\n",
        "    self.message=message\n",
        "    super().__init__(self.message)\n",
        "def NumberCheck(n):\n",
        "  try:\n",
        "    assert n>0 ,\"The number is not positive.\"\n",
        "    return n\n",
        "  except AssertionError as e:\n",
        "      raise NegativeNumber(e)\n",
        "try:\n",
        "  num=int(input(\"Enter the number :\"))\n",
        "  NumberCheck(num)\n",
        "except NegativeNumber as e:\n",
        "  print(f\"Error:{e.message}\")\n",
        "\n",
        "\n"
      ],
      "metadata": {
        "colab": {
          "base_uri": "https://localhost:8080/"
        },
        "id": "KEIHu3gMMdGt",
        "outputId": "a6f9ad1c-204c-4c75-cc21-a64ba6bd2001"
      },
      "execution_count": null,
      "outputs": [
        {
          "output_type": "stream",
          "name": "stdout",
          "text": [
            "Enter the number :-3\n",
            "Error:The number is not positive.\n"
          ]
        }
      ]
    }
  ]
}